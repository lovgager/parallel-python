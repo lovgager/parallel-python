{
 "cells": [
  {
   "cell_type": "code",
   "execution_count": 21,
   "metadata": {},
   "outputs": [],
   "source": [
    "# импортируем необходимые пакеты и  функции\n",
    "from mpi4py import MPI\n",
    "import numpy as np\n",
    "import matplotlib as mpl\n",
    "from matplotlib import pyplot as plt\n",
    "from matplotlib import cm\n",
    "from PIL import Image\n",
    "import os, sys, glob\n",
    "%matplotlib inline"
   ]
  },
  {
   "cell_type": "code",
   "execution_count": 33,
   "metadata": {},
   "outputs": [],
   "source": [
    "# гравитационная постоянная м^3 кг^-1 с^-2\n",
    "G = 6.67408E-11 \n",
    "# размер области 2L x 2L x 2L\n",
    "L = 1E6\n",
    "# радиус частиц\n",
    "R = 5E3\n",
    "# плотность\n",
    "rho = 2.5E3\n",
    "# число частиц\n",
    "N = 100\n",
    "# Моделируемый отрезок времени\n",
    "T0 = 1.0E+6\n",
    "# Число шагов по времени\n",
    "NTSteps = 1000\n",
    "# Интервал между визуализациями данных\n",
    "VizStep = 100\n",
    "# Шаг по времени\n",
    "dT = T0/NTSteps"
   ]
  },
  {
   "cell_type": "code",
   "execution_count": 23,
   "metadata": {},
   "outputs": [],
   "source": [
    "# функция для измерения времени выполнения (без изменений)\n",
    "def How_Long(func, args):\n",
    "    start = MPI.Wtime()\n",
    "    func(*args)\n",
    "    stop = MPI.Wtime()        \n",
    "    hrs = (stop - start)//(60*60)\n",
    "    mns = ((stop - start) - hrs*60*60)//60\n",
    "    scs = ((stop - start) - hrs*60*60 - mns*60)\n",
    "    print (\" {} hour {} min {} sec\\n\".format(hrs,mns,scs))\n",
    "    \n",
    "    return hrs, mns, scs, stop - start"
   ]
  },
  {
   "cell_type": "code",
   "execution_count": 24,
   "metadata": {},
   "outputs": [],
   "source": [
    "# Инициализация начальных условий с помощью numpy, без циклов\n",
    "def init_cond_numpy(NP):\n",
    "    crds = L - 2*L*np.random.random(size=(NP, 3))\n",
    "    rds = np.random.randint(low=100, high=R, size=NP, dtype='int64')\n",
    "    mss = rho*4/3*np.pi*rds**3\n",
    "    vls = np.zeros(shape=[NP, 3])\n",
    "    return crds, rds, mss, vls"
   ]
  },
  {
   "cell_type": "code",
   "execution_count": 25,
   "metadata": {},
   "outputs": [],
   "source": [
    "# Функция визуализации данных (без изменений)\n",
    "def Viz(Crds, FileName):\n",
    "    mpl.rcParams['figure.figsize'] = (24.0, 8.0)\n",
    "    plt.subplots(ncols=3)\n",
    "    X = np.array(Crds)[:,0]\n",
    "    Y = np.array(Crds)[:,1]\n",
    "    Z = np.array(Crds)[:,2]\n",
    "    plt.subplot(131)\n",
    "    plt.title('View From X Axis')\n",
    "    plt.xlabel('Y')\n",
    "    plt.ylabel('Z')\n",
    "    plt.scatter(Y, Z, cmap=cm.hot)\n",
    "    plt.xlim([-L,L])\n",
    "    plt.ylim([-L,L])\n",
    "    plt.subplot(132)\n",
    "    plt.title('View From Y Axis')\n",
    "    plt.xlabel('X')\n",
    "    plt.ylabel('Z')\n",
    "    plt.scatter(X, Z, cmap=cm.hot)\n",
    "    plt.xlim([-L,L])\n",
    "    plt.ylim([-L,L])\n",
    "    plt.subplot(133)\n",
    "    plt.title('View From Z Axis')\n",
    "    plt.xlabel('X')\n",
    "    plt.ylabel('Y')    \n",
    "    plt.scatter(X, Y, cmap=cm.hot)\n",
    "    plt.xlim([-L,L])\n",
    "    plt.ylim([-L,L])\n",
    "    plt.savefig(FileName,dpi=300, bbox_inches='tight')\n",
    "    plt.close()"
   ]
  },
  {
   "cell_type": "code",
   "execution_count": 26,
   "metadata": {},
   "outputs": [],
   "source": [
    "# Основная функция для решения задачи N тел, немного оптимизирована\n",
    "def nbody_numpy(NP, NT, dt, crds, vls, mss):  \n",
    "    \n",
    "    for step in range(1, NT + 1):\n",
    "        A = np.zeros(shape=[NP, 3])\n",
    "        for i in range(NP):\n",
    "            dr = np.delete(crds, i, axis=0) - crds[i]\n",
    "            dr3 = np.linalg.norm(dr, axis=1)**3\n",
    "            A[i] = np.dot(np.delete(mss, i, axis=0)/dr3, dr)\n",
    "        vls += dt*G*A\n",
    "        crds += dt*vls\n",
    "        \n",
    "        # сохраняем только изображения png\n",
    "        if step % VizStep == 0:\n",
    "            print (\"STEP: {}\".format(step))\n",
    "            fn = os.path.join(\"WORK_SPACE\", \"ResNBody_List\",\"%020d.png\" % step)\n",
    "            Viz(crds,fn)"
   ]
  },
  {
   "cell_type": "code",
   "execution_count": 27,
   "metadata": {},
   "outputs": [],
   "source": [
    "# Та же функция с распараллеливанием\n",
    "# Для простоты считаем, что число частиц всегда делится нацело на число процессов\n",
    "def nbody_numpy_parallel(NP, NT, dt, crds, vls, mss):\n",
    "    from ipyparallel import Client\n",
    "    client = Client()\n",
    "    dview = client[:]\n",
    "    dview.block = True\n",
    "    dview['part'] = NP//len(dview.targets) # Число частиц, обрабатываемых одним процессом\n",
    "    dview['G'] = G\n",
    "    dview['mss'] = mss\n",
    "    dview.scatter('id', client.ids, flatten=True)\n",
    "    for step in range(1, NT + 1):\n",
    "        dview['crds'] = crds\n",
    "        dview['vls'] = vls\n",
    "        dview.execute(\n",
    "            '''\n",
    "            import numpy as np\n",
    "            A = np.zeros(shape=[part, 3])\n",
    "            for i in range(part):\n",
    "                dr = np.delete(crds, i + id*part, axis=0) - crds[i + id*part]\n",
    "                dr3 = np.linalg.norm(dr, axis=1)**3\n",
    "                A[i] = np.dot(np.delete(mss, i + id*part, axis=0)/dr3, dr)\n",
    "            '''\n",
    "        )\n",
    "        vls += dt*G*dview.gather('A')\n",
    "        crds += dt*vls\n",
    "        \n",
    "        # сохраняем только изображения png\n",
    "        if step % VizStep == 0:\n",
    "            print (\"STEP: {}\".format(step))\n",
    "            fn = os.path.join(\"WORK_SPACE\", \"ResNBody_List\",\"%020d.png\" % step)\n",
    "            Viz(crds,fn)"
   ]
  },
  {
   "cell_type": "code",
   "execution_count": 34,
   "metadata": {
    "scrolled": true
   },
   "outputs": [],
   "source": [
    "# Генерация начального состояния системы\n",
    "coords, rads, mass, vels = init_cond_numpy(N)\n",
    "fn = os.path.join(\"WORK_SPACE\", \"ResNBody_List\", \"%020d.png\" % 0)\n",
    "Viz(coords, fn)"
   ]
  },
  {
   "cell_type": "code",
   "execution_count": 35,
   "metadata": {
    "scrolled": true
   },
   "outputs": [
    {
     "name": "stdout",
     "output_type": "stream",
     "text": [
      "STEP: 100\n",
      "STEP: 200\n",
      "STEP: 300\n",
      "STEP: 400\n",
      "STEP: 500\n",
      "STEP: 600\n",
      "STEP: 700\n",
      "STEP: 800\n",
      "STEP: 900\n",
      "STEP: 1000\n",
      " 0.0 hour 0.0 min 44.34010800009128 sec\n",
      "\n"
     ]
    }
   ],
   "source": [
    "How_Long(nbody_numpy_parallel, [N, NTSteps, dT, coords, vels, mass])\n",
    "fp_in = \"WORK_SPACE/ResNBody_List/*.png\"\n",
    "fp_out = \"WORK_SPACE/ResNBody_List.gif\"\n",
    "\n",
    "img, *imgs = [Image.open(f) for f in sorted(glob.glob(fp_in))]\n",
    "img.save(fp=fp_out, format='GIF', append_images=imgs,\n",
    "         save_all=True, optimize=False, duration=200, loop=0)"
   ]
  }
 ],
 "metadata": {
  "kernelspec": {
   "display_name": "Python 3",
   "language": "python",
   "name": "python3"
  },
  "language_info": {
   "codemirror_mode": {
    "name": "ipython",
    "version": 3
   },
   "file_extension": ".py",
   "mimetype": "text/x-python",
   "name": "python",
   "nbconvert_exporter": "python",
   "pygments_lexer": "ipython3",
   "version": "3.7.6"
  }
 },
 "nbformat": 4,
 "nbformat_minor": 4
}
